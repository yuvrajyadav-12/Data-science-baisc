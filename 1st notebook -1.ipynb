{
 "cells": [
  {
   "attachments": {},
   "cell_type": "markdown",
   "metadata": {},
   "source": [
    "# Jupyter notebook basics"
   ]
  },
  {
   "attachments": {},
   "cell_type": "markdown",
   "metadata": {},
   "source": [
    "##### Here in this notebook some basic codes and markdown cells are shown"
   ]
  },
  {
   "attachments": {},
   "cell_type": "markdown",
   "metadata": {},
   "source": [
    "### Some data science languages :-\n",
    "    1. Python\n",
    "    2. R\n",
    "    3. Scala\n",
    "    4. Julia\n",
    "    5. Perl\n",
    "    6. Javascript\n",
    "    7. Java\n",
    "    8. Sql\n",
    "    9. Matlab\n"
   ]
  },
  {
   "attachments": {},
   "cell_type": "markdown",
   "metadata": {},
   "source": [
    "### Some data science libraries :-\n",
    "   1. #### Python based:\n",
    "        NumPy\n",
    "        Panda\n",
    "        Tensorflow etc.\n",
    "   2. #### R based :\n",
    "        Ggplot\n",
    "        Caret \n",
    "        SciPy etc.\n",
    "   3. #### Java based :\n",
    "        DL4J\n",
    "        ADAMS  \n",
    "        JSTAT etc.    "
   ]
  },
  {
   "attachments": {},
   "cell_type": "markdown",
   "metadata": {},
   "source": [
    "|Data science tools|\n",
    "|------------------|\n",
    "|Python|\n",
    "|tableau|\n",
    "|SQL|\n",
    "|Tensorflow|\n",
    "  "
   ]
  },
  {
   "attachments": {},
   "cell_type": "markdown",
   "metadata": {},
   "source": [
    "#### Arithmetic expressions :\n",
    "     1. 3+5\n",
    "     2. 8-5\n",
    "     3. 5*6\n",
    "     4. 90/8\n",
    "     "
   ]
  },
  {
   "cell_type": "code",
   "execution_count": 2,
   "metadata": {},
   "outputs": [
    {
     "name": "stdout",
     "output_type": "stream",
     "text": [
      "30\n",
      "13\n"
     ]
    }
   ],
   "source": [
    "# Multiplication\n",
    "print(5*6)\n",
    "#Addition    \n",
    "print(6+7)"
   ]
  },
  {
   "cell_type": "code",
   "execution_count": 3,
   "metadata": {},
   "outputs": [
    {
     "name": "stdout",
     "output_type": "stream",
     "text": [
      "7 hours 40 minutes\n"
     ]
    }
   ],
   "source": [
    "min=460\n",
    "print(f\"{int(min/60)} hours {min%60} minutes\")"
   ]
  },
  {
   "attachments": {},
   "cell_type": "markdown",
   "metadata": {},
   "source": [
    "### objectives:\n",
    " To learn about different data science tools\n",
    " "
   ]
  },
  {
   "attachments": {},
   "cell_type": "markdown",
   "metadata": {},
   "source": [
    "### Author name :\n",
    "  Yuvraj Kumar Yadav"
   ]
  }
 ],
 "metadata": {
  "kernelspec": {
   "display_name": "base",
   "language": "python",
   "name": "python3"
  },
  "language_info": {
   "codemirror_mode": {
    "name": "ipython",
    "version": 3
   },
   "file_extension": ".py",
   "mimetype": "text/x-python",
   "name": "python",
   "nbconvert_exporter": "python",
   "pygments_lexer": "ipython3",
   "version": "3.10.11"
  },
  "orig_nbformat": 4
 },
 "nbformat": 4,
 "nbformat_minor": 2
}
